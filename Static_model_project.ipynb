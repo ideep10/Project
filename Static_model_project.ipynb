{
 "cells": [
  {
   "cell_type": "code",
   "execution_count": 7,
   "id": "36397292",
   "metadata": {},
   "outputs": [],
   "source": [
    "import numpy as np\n",
    "from physicsinformed_static import PhysicsInformedBarModel\n",
    "import torch\n",
    "import matplotlib.pyplot as plt\n",
    "import utilities\n",
    "import math"
   ]
  },
  {
   "cell_type": "code",
   "execution_count": 8,
   "id": "7b24044e",
   "metadata": {},
   "outputs": [],
   "source": [
    "samples = 100"
   ]
  },
  {
   "cell_type": "code",
   "execution_count": 9,
   "id": "5e57b2a4",
   "metadata": {},
   "outputs": [],
   "source": [
    "E =  1.44*(10**9)\n",
    "nu = 0.38\n",
    "bh = 24*(10**-6)\n",
    "arr = np.zeros(100)\n",
    "arr[-1] = 100*(10**-6)\n",
    "distLoad = lambda x: torch.tensor(arr)\n",
    "u0 = [0,0,100,0,0,0]"
   ]
  },
  {
   "cell_type": "code",
   "execution_count": 14,
   "id": "f9e2dd4e",
   "metadata": {},
   "outputs": [
    {
     "name": "stdout",
     "output_type": "stream",
     "text": [
      "check 2\n"
     ]
    }
   ],
   "source": [
    "pinnModel = PhysicsInformedBarModel(E, nu, bh, u0, dist_load = distLoad)\n"
   ]
  },
  {
   "cell_type": "code",
   "execution_count": 11,
   "id": "dc504bd3",
   "metadata": {},
   "outputs": [
    {
     "name": "stdout",
     "output_type": "stream",
     "text": [
      "1\n",
      "Epoch: 0/999\t\tDifferential equation loss = 0.000001\t\tBoundary condition loss = 0.102967\t\tTotal loss = 0.102968\n",
      "Epoch: 100/999\t\tDifferential equation loss = 0.000001\t\tBoundary condition loss = 0.000000\t\tTotal loss = 0.000001\n",
      "Epoch: 200/999\t\tDifferential equation loss = 0.000001\t\tBoundary condition loss = 0.000000\t\tTotal loss = 0.000001\n",
      "Epoch: 300/999\t\tDifferential equation loss = 0.000001\t\tBoundary condition loss = 0.000000\t\tTotal loss = 0.000001\n",
      "Epoch: 400/999\t\tDifferential equation loss = 0.000001\t\tBoundary condition loss = 0.000000\t\tTotal loss = 0.000001\n",
      "Epoch: 500/999\t\tDifferential equation loss = 0.000001\t\tBoundary condition loss = 0.000000\t\tTotal loss = 0.000001\n",
      "Epoch: 600/999\t\tDifferential equation loss = 0.000001\t\tBoundary condition loss = 0.000000\t\tTotal loss = 0.000001\n",
      "Epoch: 700/999\t\tDifferential equation loss = 0.000001\t\tBoundary condition loss = 0.000000\t\tTotal loss = 0.000001\n",
      "Epoch: 800/999\t\tDifferential equation loss = 0.000001\t\tBoundary condition loss = 0.000000\t\tTotal loss = 0.000001\n",
      "Epoch: 900/999\t\tDifferential equation loss = 0.000001\t\tBoundary condition loss = 0.000000\t\tTotal loss = 0.000001\n",
      "Epoch: 999/999\t\tDifferential equation loss = 0.000001\t\tBoundary condition loss = 0.000000\t\tTotal loss = 0.000001\n",
      "2\n",
      "Epoch: 0/999\t\tDifferential equation loss = 0.000001\t\tBoundary condition loss = 0.000000\t\tTotal loss = 0.000001\n",
      "Epoch: 100/999\t\tDifferential equation loss = 0.000001\t\tBoundary condition loss = 0.000000\t\tTotal loss = 0.000001\n",
      "Epoch: 200/999\t\tDifferential equation loss = 0.000001\t\tBoundary condition loss = 0.000000\t\tTotal loss = 0.000001\n",
      "Epoch: 300/999\t\tDifferential equation loss = 0.000001\t\tBoundary condition loss = 0.000000\t\tTotal loss = 0.000001\n",
      "Epoch: 400/999\t\tDifferential equation loss = 0.000001\t\tBoundary condition loss = 0.000000\t\tTotal loss = 0.000001\n",
      "Epoch: 500/999\t\tDifferential equation loss = 0.000001\t\tBoundary condition loss = 0.000000\t\tTotal loss = 0.000001\n",
      "Epoch: 600/999\t\tDifferential equation loss = 0.000001\t\tBoundary condition loss = 0.000000\t\tTotal loss = 0.000001\n",
      "Epoch: 700/999\t\tDifferential equation loss = 0.000001\t\tBoundary condition loss = 0.000000\t\tTotal loss = 0.000001\n",
      "Epoch: 800/999\t\tDifferential equation loss = 0.000001\t\tBoundary condition loss = 0.000000\t\tTotal loss = 0.000001\n",
      "Epoch: 900/999\t\tDifferential equation loss = 0.000001\t\tBoundary condition loss = 0.000000\t\tTotal loss = 0.000001\n",
      "Epoch: 999/999\t\tDifferential equation loss = 0.000001\t\tBoundary condition loss = 0.000000\t\tTotal loss = 0.000001\n",
      "3\n",
      "Epoch: 0/999\t\tDifferential equation loss = 0.000001\t\tBoundary condition loss = 0.000000\t\tTotal loss = 0.000001\n",
      "Epoch: 100/999\t\tDifferential equation loss = 0.000001\t\tBoundary condition loss = 0.000000\t\tTotal loss = 0.000001\n",
      "Epoch: 200/999\t\tDifferential equation loss = 0.000001\t\tBoundary condition loss = 0.000000\t\tTotal loss = 0.000001\n",
      "Epoch: 300/999\t\tDifferential equation loss = 0.000001\t\tBoundary condition loss = 0.000000\t\tTotal loss = 0.000001\n",
      "Epoch: 400/999\t\tDifferential equation loss = 0.000001\t\tBoundary condition loss = 0.000000\t\tTotal loss = 0.000001\n",
      "Epoch: 500/999\t\tDifferential equation loss = 0.000001\t\tBoundary condition loss = 0.000000\t\tTotal loss = 0.000001\n",
      "Epoch: 600/999\t\tDifferential equation loss = 0.000001\t\tBoundary condition loss = 0.000000\t\tTotal loss = 0.000001\n",
      "Epoch: 700/999\t\tDifferential equation loss = 0.000001\t\tBoundary condition loss = 0.000000\t\tTotal loss = 0.000001\n",
      "Epoch: 800/999\t\tDifferential equation loss = 0.000001\t\tBoundary condition loss = 0.000000\t\tTotal loss = 0.000001\n",
      "Epoch: 900/999\t\tDifferential equation loss = 0.000001\t\tBoundary condition loss = 0.000000\t\tTotal loss = 0.000001\n",
      "Epoch: 999/999\t\tDifferential equation loss = 0.000001\t\tBoundary condition loss = 0.000000\t\tTotal loss = 0.000001\n",
      "4\n",
      "Epoch: 0/999\t\tDifferential equation loss = 0.000001\t\tBoundary condition loss = 0.000000\t\tTotal loss = 0.000001\n",
      "Epoch: 100/999\t\tDifferential equation loss = 0.000001\t\tBoundary condition loss = 0.000000\t\tTotal loss = 0.000001\n",
      "Epoch: 200/999\t\tDifferential equation loss = 0.000001\t\tBoundary condition loss = 0.000000\t\tTotal loss = 0.000001\n",
      "Epoch: 300/999\t\tDifferential equation loss = 0.000001\t\tBoundary condition loss = 0.000000\t\tTotal loss = 0.000001\n",
      "Epoch: 400/999\t\tDifferential equation loss = 0.000001\t\tBoundary condition loss = 0.000000\t\tTotal loss = 0.000001\n",
      "Epoch: 500/999\t\tDifferential equation loss = 0.000001\t\tBoundary condition loss = 0.000000\t\tTotal loss = 0.000001\n",
      "Epoch: 600/999\t\tDifferential equation loss = 0.000001\t\tBoundary condition loss = 0.000000\t\tTotal loss = 0.000001\n",
      "Epoch: 700/999\t\tDifferential equation loss = 0.000001\t\tBoundary condition loss = 0.000000\t\tTotal loss = 0.000001\n",
      "Epoch: 800/999\t\tDifferential equation loss = 0.000001\t\tBoundary condition loss = 0.000000\t\tTotal loss = 0.000001\n",
      "Epoch: 900/999\t\tDifferential equation loss = 0.000001\t\tBoundary condition loss = 0.000000\t\tTotal loss = 0.000001\n",
      "Epoch: 999/999\t\tDifferential equation loss = 0.000001\t\tBoundary condition loss = 0.000000\t\tTotal loss = 0.000001\n",
      "5\n",
      "Epoch: 0/999\t\tDifferential equation loss = 0.000001\t\tBoundary condition loss = 0.000000\t\tTotal loss = 0.000001\n",
      "Epoch: 100/999\t\tDifferential equation loss = 0.000001\t\tBoundary condition loss = 0.000000\t\tTotal loss = 0.000001\n",
      "Epoch: 200/999\t\tDifferential equation loss = 0.000001\t\tBoundary condition loss = 0.000000\t\tTotal loss = 0.000001\n",
      "Epoch: 300/999\t\tDifferential equation loss = 0.000001\t\tBoundary condition loss = 0.000000\t\tTotal loss = 0.000001\n",
      "Epoch: 400/999\t\tDifferential equation loss = 0.000001\t\tBoundary condition loss = 0.000000\t\tTotal loss = 0.000001\n",
      "Epoch: 500/999\t\tDifferential equation loss = 0.000001\t\tBoundary condition loss = 0.000000\t\tTotal loss = 0.000001\n",
      "Epoch: 600/999\t\tDifferential equation loss = 0.000001\t\tBoundary condition loss = 0.000000\t\tTotal loss = 0.000001\n",
      "Epoch: 700/999\t\tDifferential equation loss = 0.000001\t\tBoundary condition loss = 0.000000\t\tTotal loss = 0.000001\n",
      "Epoch: 800/999\t\tDifferential equation loss = 0.000001\t\tBoundary condition loss = 0.000000\t\tTotal loss = 0.000001\n",
      "Epoch: 900/999\t\tDifferential equation loss = 0.000001\t\tBoundary condition loss = 0.000000\t\tTotal loss = 0.000001\n",
      "Epoch: 999/999\t\tDifferential equation loss = 0.000001\t\tBoundary condition loss = 0.000000\t\tTotal loss = 0.000001\n",
      "6\n",
      "Epoch: 0/999\t\tDifferential equation loss = 0.000001\t\tBoundary condition loss = 0.000000\t\tTotal loss = 0.000001\n",
      "Epoch: 100/999\t\tDifferential equation loss = 0.000001\t\tBoundary condition loss = 0.000000\t\tTotal loss = 0.000001\n",
      "Epoch: 200/999\t\tDifferential equation loss = 0.000001\t\tBoundary condition loss = 0.000000\t\tTotal loss = 0.000001\n",
      "Epoch: 300/999\t\tDifferential equation loss = 0.000001\t\tBoundary condition loss = 0.000000\t\tTotal loss = 0.000001\n",
      "Epoch: 400/999\t\tDifferential equation loss = 0.000001\t\tBoundary condition loss = 0.000000\t\tTotal loss = 0.000001\n",
      "Epoch: 500/999\t\tDifferential equation loss = 0.000001\t\tBoundary condition loss = 0.000000\t\tTotal loss = 0.000001\n",
      "Epoch: 600/999\t\tDifferential equation loss = 0.000001\t\tBoundary condition loss = 0.000000\t\tTotal loss = 0.000001\n",
      "Epoch: 700/999\t\tDifferential equation loss = 0.000001\t\tBoundary condition loss = 0.000000\t\tTotal loss = 0.000001\n",
      "Epoch: 800/999\t\tDifferential equation loss = 0.000001\t\tBoundary condition loss = 0.000000\t\tTotal loss = 0.000001\n",
      "Epoch: 900/999\t\tDifferential equation loss = 0.000001\t\tBoundary condition loss = 0.000000\t\tTotal loss = 0.000001\n",
      "Epoch: 999/999\t\tDifferential equation loss = 0.000001\t\tBoundary condition loss = 0.000000\t\tTotal loss = 0.000001\n",
      "7\n",
      "Epoch: 0/999\t\tDifferential equation loss = 0.000001\t\tBoundary condition loss = 0.000000\t\tTotal loss = 0.000001\n",
      "Epoch: 100/999\t\tDifferential equation loss = 0.000001\t\tBoundary condition loss = 0.000000\t\tTotal loss = 0.000001\n",
      "Epoch: 200/999\t\tDifferential equation loss = 0.000001\t\tBoundary condition loss = 0.000000\t\tTotal loss = 0.000001\n",
      "Epoch: 300/999\t\tDifferential equation loss = 0.000001\t\tBoundary condition loss = 0.000000\t\tTotal loss = 0.000001\n",
      "Epoch: 400/999\t\tDifferential equation loss = 0.000001\t\tBoundary condition loss = 0.000000\t\tTotal loss = 0.000001\n",
      "Epoch: 500/999\t\tDifferential equation loss = 0.000001\t\tBoundary condition loss = 0.000000\t\tTotal loss = 0.000001\n",
      "Epoch: 600/999\t\tDifferential equation loss = 0.000001\t\tBoundary condition loss = 0.000000\t\tTotal loss = 0.000001\n",
      "Epoch: 700/999\t\tDifferential equation loss = 0.000001\t\tBoundary condition loss = 0.000000\t\tTotal loss = 0.000001\n",
      "Epoch: 800/999\t\tDifferential equation loss = 0.000001\t\tBoundary condition loss = 0.000000\t\tTotal loss = 0.000001\n",
      "Epoch: 900/999\t\tDifferential equation loss = 0.000001\t\tBoundary condition loss = 0.000000\t\tTotal loss = 0.000001\n",
      "Epoch: 999/999\t\tDifferential equation loss = 0.000001\t\tBoundary condition loss = 0.000000\t\tTotal loss = 0.000001\n",
      "8\n",
      "Epoch: 0/999\t\tDifferential equation loss = 0.000001\t\tBoundary condition loss = 0.000000\t\tTotal loss = 0.000001\n",
      "Epoch: 100/999\t\tDifferential equation loss = 0.000001\t\tBoundary condition loss = 0.000000\t\tTotal loss = 0.000001\n",
      "Epoch: 200/999\t\tDifferential equation loss = 0.000001\t\tBoundary condition loss = 0.000000\t\tTotal loss = 0.000001\n",
      "Epoch: 300/999\t\tDifferential equation loss = 0.000001\t\tBoundary condition loss = 0.000000\t\tTotal loss = 0.000001\n",
      "Epoch: 400/999\t\tDifferential equation loss = 0.000001\t\tBoundary condition loss = 0.000000\t\tTotal loss = 0.000001\n",
      "Epoch: 500/999\t\tDifferential equation loss = 0.000001\t\tBoundary condition loss = 0.000000\t\tTotal loss = 0.000001\n",
      "Epoch: 600/999\t\tDifferential equation loss = 0.000001\t\tBoundary condition loss = 0.000000\t\tTotal loss = 0.000001\n",
      "Epoch: 700/999\t\tDifferential equation loss = 0.000001\t\tBoundary condition loss = 0.000000\t\tTotal loss = 0.000001\n",
      "Epoch: 800/999\t\tDifferential equation loss = 0.000001\t\tBoundary condition loss = 0.000000\t\tTotal loss = 0.000001\n",
      "Epoch: 900/999\t\tDifferential equation loss = 0.000001\t\tBoundary condition loss = 0.000000\t\tTotal loss = 0.000001\n",
      "Epoch: 999/999\t\tDifferential equation loss = 0.000001\t\tBoundary condition loss = 0.000000\t\tTotal loss = 0.000001\n",
      "9\n",
      "Epoch: 0/999\t\tDifferential equation loss = 0.000001\t\tBoundary condition loss = 0.000000\t\tTotal loss = 0.000001\n",
      "Epoch: 100/999\t\tDifferential equation loss = 0.000001\t\tBoundary condition loss = 0.000000\t\tTotal loss = 0.000001\n",
      "Epoch: 200/999\t\tDifferential equation loss = 0.000001\t\tBoundary condition loss = 0.000000\t\tTotal loss = 0.000001\n",
      "Epoch: 300/999\t\tDifferential equation loss = 0.000001\t\tBoundary condition loss = 0.000000\t\tTotal loss = 0.000001\n",
      "Epoch: 400/999\t\tDifferential equation loss = 0.000001\t\tBoundary condition loss = 0.000000\t\tTotal loss = 0.000001\n",
      "Epoch: 500/999\t\tDifferential equation loss = 0.000001\t\tBoundary condition loss = 0.000000\t\tTotal loss = 0.000001\n",
      "Epoch: 600/999\t\tDifferential equation loss = 0.000001\t\tBoundary condition loss = 0.000000\t\tTotal loss = 0.000001\n",
      "Epoch: 700/999\t\tDifferential equation loss = 0.000001\t\tBoundary condition loss = 0.000000\t\tTotal loss = 0.000001\n",
      "Epoch: 800/999\t\tDifferential equation loss = 0.000001\t\tBoundary condition loss = 0.000000\t\tTotal loss = 0.000001\n",
      "Epoch: 900/999\t\tDifferential equation loss = 0.000001\t\tBoundary condition loss = 0.000000\t\tTotal loss = 0.000001\n",
      "Epoch: 999/999\t\tDifferential equation loss = 0.000001\t\tBoundary condition loss = 0.000000\t\tTotal loss = 0.000001\n",
      "10\n",
      "Epoch: 0/999\t\tDifferential equation loss = 0.000001\t\tBoundary condition loss = 0.000000\t\tTotal loss = 0.000001\n",
      "Epoch: 100/999\t\tDifferential equation loss = 0.000001\t\tBoundary condition loss = 0.000000\t\tTotal loss = 0.000001\n",
      "Epoch: 200/999\t\tDifferential equation loss = 0.000001\t\tBoundary condition loss = 0.000000\t\tTotal loss = 0.000001\n",
      "Epoch: 300/999\t\tDifferential equation loss = 0.000001\t\tBoundary condition loss = 0.000000\t\tTotal loss = 0.000001\n",
      "Epoch: 400/999\t\tDifferential equation loss = 0.000001\t\tBoundary condition loss = 0.000000\t\tTotal loss = 0.000001\n",
      "Epoch: 500/999\t\tDifferential equation loss = 0.000001\t\tBoundary condition loss = 0.000000\t\tTotal loss = 0.000001\n",
      "Epoch: 600/999\t\tDifferential equation loss = 0.000001\t\tBoundary condition loss = 0.000000\t\tTotal loss = 0.000001\n",
      "Epoch: 700/999\t\tDifferential equation loss = 0.000001\t\tBoundary condition loss = 0.000000\t\tTotal loss = 0.000001\n",
      "Epoch: 800/999\t\tDifferential equation loss = 0.000001\t\tBoundary condition loss = 0.000000\t\tTotal loss = 0.000001\n",
      "Epoch: 900/999\t\tDifferential equation loss = 0.000001\t\tBoundary condition loss = 0.000000\t\tTotal loss = 0.000001\n",
      "Epoch: 999/999\t\tDifferential equation loss = 0.000001\t\tBoundary condition loss = 0.000000\t\tTotal loss = 0.000001\n"
     ]
    }
   ],
   "source": [
    "for i in range(10):\n",
    "    epochs = 1000\n",
    "    learningRate = 1e-2\n",
    "    print(i+1)\n",
    "    pinnModel.train(epochs, optimizer='LBFGS', lr=learningRate)"
   ]
  },
  {
   "cell_type": "code",
   "execution_count": 12,
   "id": "dde36bd8",
   "metadata": {},
   "outputs": [
    {
     "name": "stdout",
     "output_type": "stream",
     "text": [
      "tensor([0.], grad_fn=<SelectBackward0>) tensor([1.2871e-06], grad_fn=<SelectBackward0>)\n"
     ]
    }
   ],
   "source": [
    "x_test = utilities.generate_grid_1d(440.1*(10**-6), samples)\n",
    "u_test = pinnModel.get_displacements(x_test)\n",
    "u_analytic = lambda x: 5 *np.log(1+x)*0\n",
    "print(x_test[0],u_test[0])"
   ]
  },
  {
   "cell_type": "code",
   "execution_count": 13,
   "id": "813bd44f",
   "metadata": {},
   "outputs": [
    {
     "data": {
      "image/png": "[encoded data removed]",
      "text/plain": [
       "<Figure size 288x216 with 1 Axes>"
      ]
     },
     "metadata": {
      "needs_background": "light"
     },
     "output_type": "display_data"
    },
    {
     "data": {
      "image/png": "[encoded data removed]",
      "text/plain": [
       "<Figure size 288x216 with 1 Axes>"
      ]
     },
     "metadata": {
      "needs_background": "light"
     },
     "output_type": "display_data"
    }
   ],
   "source": [
    "utilities.plot_displacements_bar(x_test, u_test, u_analytic)\n",
    "\n",
    "pinnModel.plot_training_history()"
   ]
  },
  {
   "cell_type": "code",
   "execution_count": null,
   "id": "3449c4a5",
   "metadata": {},
   "outputs": [],
   "source": []
  }
 ],
 "metadata": {
  "kernelspec": {
   "display_name": "Python 3 (ipykernel)",
   "language": "python",
   "name": "python3"
  },
  "language_info": {
   "codemirror_mode": {
    "name": "ipython",
    "version": 3
   },
   "file_extension": ".py",
   "mimetype": "text/x-python",
   "name": "python",
   "nbconvert_exporter": "python",
   "pygments_lexer": "ipython3",
   "version": "3.9.7"
  }
 },
 "nbformat": 4,
 "nbformat_minor": 5
}
